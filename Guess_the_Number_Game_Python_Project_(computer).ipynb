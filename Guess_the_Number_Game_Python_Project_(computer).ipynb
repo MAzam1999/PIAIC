{
  "nbformat": 4,
  "nbformat_minor": 0,
  "metadata": {
    "colab": {
      "provenance": [],
      "authorship_tag": "ABX9TyPAryAaZYTZ0Vrc/i7unYKD",
      "include_colab_link": true
    },
    "kernelspec": {
      "name": "python3",
      "display_name": "Python 3"
    },
    "language_info": {
      "name": "python"
    }
  },
  "cells": [
    {
      "cell_type": "markdown",
      "metadata": {
        "id": "view-in-github",
        "colab_type": "text"
      },
      "source": [
        "<a href=\"https://colab.research.google.com/github/MAzam1999/PIAIC/blob/main/Guess_the_Number_Game_Python_Project_(computer).ipynb\" target=\"_parent\"><img src=\"https://colab.research.google.com/assets/colab-badge.svg\" alt=\"Open In Colab\"/></a>"
      ]
    },
    {
      "cell_type": "code",
      "execution_count": null,
      "metadata": {
        "id": "biBJU4xefSZZ",
        "colab": {
          "base_uri": "https://localhost:8080/"
        },
        "outputId": "021da3ba-5f59-44a5-8ef7-6a073276a1fa"
      },
      "outputs": [
        {
          "output_type": "stream",
          "name": "stdout",
          "text": [
            "\n",
            "Think of a number between 1 and 10, and I'll try to guess it!\n",
            "\n",
            "Is 2 too high (H), too low (L), or correct (C)? v\n",
            "Invalid input! Please enter 'H' for too high, 'L' for too low, or 'C' for correct: c\n",
            "\n",
            "🎉 Yay! The computer guessed your number, 2, correctly in 1 attempts!\n"
          ]
        }
      ],
      "source": [
        "import random\n",
        "\n",
        "def computer_guess(x):\n",
        "    low = 1\n",
        "    high = x\n",
        "    attempts = 0  # Track the number of attempts\n",
        "    feedback = ''\n",
        "\n",
        "    print(f\"\\nThink of a number between 1 and {x}, and I'll try to guess it!\")\n",
        "\n",
        "    while feedback != 'c':\n",
        "        if low != high:\n",
        "            guess = random.randint(low, high)\n",
        "        else:\n",
        "            guess = low  # Since low == high, it's the only possibility\n",
        "\n",
        "        attempts += 1\n",
        "        feedback = input(f\"\\nIs {guess} too high (H), too low (L), or correct (C)? \").lower()\n",
        "\n",
        "        while feedback not in ['h', 'l', 'c']:\n",
        "            feedback = input(\"Invalid input! Please enter 'H' for too high, 'L' for too low, or 'C' for correct: \").lower()\n",
        "\n",
        "        if feedback == 'h':\n",
        "            high = guess - 1\n",
        "        elif feedback == 'l':\n",
        "            low = guess + 1\n",
        "\n",
        "    print(f'\\n🎉 Yay! The computer guessed your number, {guess}, correctly in {attempts} attempts!')\n",
        "\n",
        "# Example: Play with numbers between 1 and 10\n",
        "computer_guess(10)\n"
      ]
    }
  ]
}