{
  "nbformat": 4,
  "nbformat_minor": 0,
  "metadata": {
    "colab": {
      "provenance": [],
      "authorship_tag": "ABX9TyNggp6tlBCi2/a60xgTVsNu",
      "include_colab_link": true
    },
    "kernelspec": {
      "name": "python3",
      "display_name": "Python 3"
    },
    "language_info": {
      "name": "python"
    }
  },
  "cells": [
    {
      "cell_type": "markdown",
      "metadata": {
        "id": "view-in-github",
        "colab_type": "text"
      },
      "source": [
        "<a href=\"https://colab.research.google.com/github/MAzam1999/PIAIC/blob/main/Mad_libs.ipynb\" target=\"_parent\"><img src=\"https://colab.research.google.com/assets/colab-badge.svg\" alt=\"Open In Colab\"/></a>"
      ]
    },
    {
      "cell_type": "code",
      "execution_count": null,
      "metadata": {
        "colab": {
          "base_uri": "https://localhost:8080/"
        },
        "id": "va6lD32UbwxR",
        "outputId": "af442195-07fd-47e2-835d-dd4d88871745"
      },
      "outputs": [
        {
          "output_type": "stream",
          "name": "stdout",
          "text": [
            "Adjective: thrilling\n",
            "Adjective: gigantic\n",
            "Noun: roller coaster\n",
            "Noun: popcorn\n",
            "Verb: dance\n",
            "Verb: scream\n",
            "Place: amusement park\n",
            "Famous Person: The Rock\n",
            "\n",
            "Your Mad Libs Story:\n",
            "\n",
            "Today, I went to the amusement park and it was so thrilling! I saw a gigantic roller coaster and even got to dance with a popcorn. My favorite part was when I got to scream like The Rock. It was the best day ever!\n"
          ]
        }
      ],
      "source": [
        "# Mad Libs: A Day at the Amusement Park\n",
        "\n",
        "# Asking user for inputs\n",
        "adjective1 = input(\"Adjective: \")\n",
        "adjective2 = input(\"Adjective: \")\n",
        "noun1 = input(\"Noun: \")\n",
        "noun2 = input(\"Noun: \")\n",
        "verb1 = input(\"Verb: \")\n",
        "verb2 = input(\"Verb: \")\n",
        "place = input(\"Place: \")\n",
        "famous_person = input(\"Famous Person: \")\n",
        "\n",
        "# Creating the madlib\n",
        "madlib = f\"Today, I went to the {place} and it was so {adjective1}! \\\n",
        "I saw a {adjective2} {noun1} and even got to {verb1} with a {noun2}. \\\n",
        "My favorite part was when I got to {verb2} like {famous_person}. \\\n",
        "It was the best day ever!\"\n",
        "\n",
        "# Printing the madlib\n",
        "print(\"\\nYour Mad Libs Story:\\n\")\n",
        "print(madlib)\n"
      ]
    }
  ]
}