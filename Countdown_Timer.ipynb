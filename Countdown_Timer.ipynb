{
  "nbformat": 4,
  "nbformat_minor": 0,
  "metadata": {
    "colab": {
      "provenance": [],
      "authorship_tag": "ABX9TyOde1c449mFlkbNQ5qJaWcs",
      "include_colab_link": true
    },
    "kernelspec": {
      "name": "python3",
      "display_name": "Python 3"
    },
    "language_info": {
      "name": "python"
    }
  },
  "cells": [
    {
      "cell_type": "markdown",
      "metadata": {
        "id": "view-in-github",
        "colab_type": "text"
      },
      "source": [
        "<a href=\"https://colab.research.google.com/github/MAzam1999/PIAIC/blob/main/Countdown_Timer.ipynb\" target=\"_parent\"><img src=\"https://colab.research.google.com/assets/colab-badge.svg\" alt=\"Open In Colab\"/></a>"
      ]
    },
    {
      "cell_type": "code",
      "execution_count": null,
      "metadata": {
        "colab": {
          "base_uri": "https://localhost:8080/"
        },
        "id": "-XvXKDSoKvGH",
        "outputId": "54317073-5b2d-4f7f-dbf3-8299bdd5ea18"
      },
      "outputs": [
        {
          "output_type": "stream",
          "name": "stdout",
          "text": [
            "Enter the time in seconds: 53\n",
            "Timer Completed\n"
          ]
        }
      ],
      "source": [
        "import time\n",
        "\n",
        "def countdown(t):\n",
        "  while t:\n",
        "    mins, secs = divmod(t, 60)\n",
        "    timer = \"{:02d}:{:02d}\".format(mins, secs)\n",
        "    print(timer, end = \"\\r\")\n",
        "    time.sleep(1)\n",
        "    t -= 1\n",
        "  print(\"Timer Completed\")\n",
        "\n",
        "t = input(\"Enter the time in seconds: \")\n",
        "countdown(int(t))"
      ]
    },
    {
      "cell_type": "code",
      "source": [],
      "metadata": {
        "id": "gDBDfAfkOlso"
      },
      "execution_count": null,
      "outputs": []
    }
  ]
}