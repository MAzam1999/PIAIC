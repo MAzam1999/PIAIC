{
  "nbformat": 4,
  "nbformat_minor": 0,
  "metadata": {
    "colab": {
      "provenance": [],
      "authorship_tag": "ABX9TyP9IAnULXyGwAJTqiY8GAab",
      "include_colab_link": true
    },
    "kernelspec": {
      "name": "python3",
      "display_name": "Python 3"
    },
    "language_info": {
      "name": "python"
    }
  },
  "cells": [
    {
      "cell_type": "markdown",
      "metadata": {
        "id": "view-in-github",
        "colab_type": "text"
      },
      "source": [
        "<a href=\"https://colab.research.google.com/github/MAzam1999/PIAIC/blob/main/Password_Generator.ipynb\" target=\"_parent\"><img src=\"https://colab.research.google.com/assets/colab-badge.svg\" alt=\"Open In Colab\"/></a>"
      ]
    },
    {
      "cell_type": "code",
      "execution_count": null,
      "metadata": {
        "colab": {
          "base_uri": "https://localhost:8080/"
        },
        "id": "gFjpwrsLOq88",
        "outputId": "ad83f282-adad-4098-9836-0cb07717c859"
      },
      "outputs": [
        {
          "output_type": "stream",
          "name": "stdout",
          "text": [
            "Welcome to Your Password Generator!\n",
            "Amount of passwords to generate: 3\n",
            "Input your password length: 8\n",
            "\n",
            "here are your passwords: \n",
            "5c5I*B@l\n",
            "oBVP^PiF\n",
            "LbSYi)&M\n"
          ]
        }
      ],
      "source": [
        "import random\n",
        "\n",
        "print(\"Welcome to Your Password Generator!\")\n",
        "\n",
        "chars = \"abcdefghijklmnopqrstuvwxyzABCDEFGHIJKLMNOPQRSTUVWXYZ!@#$%^&*().,?0123456789\"\n",
        "\n",
        "number = input(\"Amount of passwords to generate: \")\n",
        "number = int(number)\n",
        "\n",
        "length = input(\"Input your password length: \")\n",
        "length = int(length)\n",
        "\n",
        "print(\"\\nhere are your passwords: \")\n",
        "\n",
        "for i in range(number):\n",
        "  passwords = \"\"\n",
        "  for j in range(length):\n",
        "    passwords += random.choice(chars)\n",
        "  print(passwords)\n"
      ]
    },
    {
      "cell_type": "code",
      "source": [],
      "metadata": {
        "id": "EMaUObffQYWn"
      },
      "execution_count": null,
      "outputs": []
    }
  ]
}