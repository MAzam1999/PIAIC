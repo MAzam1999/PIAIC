{
  "nbformat": 4,
  "nbformat_minor": 0,
  "metadata": {
    "colab": {
      "provenance": [],
      "authorship_tag": "ABX9TyNGbAEHs65/L6EjKeSOvcNT",
      "include_colab_link": true
    },
    "kernelspec": {
      "name": "python3",
      "display_name": "Python 3"
    },
    "language_info": {
      "name": "python"
    }
  },
  "cells": [
    {
      "cell_type": "markdown",
      "metadata": {
        "id": "view-in-github",
        "colab_type": "text"
      },
      "source": [
        "<a href=\"https://colab.research.google.com/github/MAzam1999/PIAIC/blob/main/hangman_visual_py.ipynb\" target=\"_parent\"><img src=\"https://colab.research.google.com/assets/colab-badge.svg\" alt=\"Open In Colab\"/></a>"
      ]
    },
    {
      "cell_type": "code",
      "execution_count": null,
      "metadata": {
        "id": "joHBo1gSwoNB"
      },
      "outputs": [],
      "source": [
        "lives_visual_dict = {\n",
        "        0: \"\"\"\n",
        "                ___________\n",
        "               | /        |\n",
        "               |/        ( )\n",
        "               |          |\n",
        "               |         / \\\\\n",
        "               |\n",
        "           \"\"\",\n",
        "        1: \"\"\"\n",
        "                ___________\n",
        "               | /        |\n",
        "               |/        ( )\n",
        "               |          |\n",
        "               |         /\n",
        "               |\n",
        "            \"\"\",\n",
        "        2: \"\"\"\n",
        "                ___________\n",
        "               | /        |\n",
        "               |/        ( )\n",
        "               |          |\n",
        "               |\n",
        "               |\n",
        "            \"\"\",\n",
        "        3: \"\"\"\n",
        "                ___________\n",
        "               | /        |\n",
        "               |/        ( )\n",
        "               |\n",
        "               |\n",
        "               |\n",
        "            \"\"\",\n",
        "        4: \"\"\"\n",
        "                ___________\n",
        "               | /        |\n",
        "               |/\n",
        "               |\n",
        "               |\n",
        "               |\n",
        "            \"\"\",\n",
        "        5: \"\"\"\n",
        "                ___________\n",
        "               | /\n",
        "               |/\n",
        "               |\n",
        "               |\n",
        "               |\n",
        "            \"\"\",\n",
        "        6: \"\"\"\n",
        "               |\n",
        "               |\n",
        "               |\n",
        "               |\n",
        "               |\n",
        "            \"\"\",\n",
        "        7: \"\",\n",
        "    }"
      ]
    }
  ]
}