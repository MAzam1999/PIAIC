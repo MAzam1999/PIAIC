{
  "nbformat": 4,
  "nbformat_minor": 0,
  "metadata": {
    "colab": {
      "provenance": [],
      "authorship_tag": "ABX9TyMnZFOHBa5jZA3Ohnl3jkCo",
      "include_colab_link": true
    },
    "kernelspec": {
      "name": "python3",
      "display_name": "Python 3"
    },
    "language_info": {
      "name": "python"
    }
  },
  "cells": [
    {
      "cell_type": "markdown",
      "metadata": {
        "id": "view-in-github",
        "colab_type": "text"
      },
      "source": [
        "<a href=\"https://colab.research.google.com/github/MAzam1999/PIAIC/blob/main/Rock%2C_paper%2C_scissors_Python_Project.ipynb\" target=\"_parent\"><img src=\"https://colab.research.google.com/assets/colab-badge.svg\" alt=\"Open In Colab\"/></a>"
      ]
    },
    {
      "cell_type": "code",
      "execution_count": null,
      "metadata": {
        "colab": {
          "base_uri": "https://localhost:8080/"
        },
        "id": "S66XRcPEsb52",
        "outputId": "720d60f1-df84-4fe6-cf02-73aca8bd62d2"
      },
      "outputs": [
        {
          "output_type": "stream",
          "name": "stdout",
          "text": [
            "\n",
            "Choose: 'r' for rock, 'p' for paper, 's' for scissors or 'q' to quit: s\n",
            "Computer chose: p\n",
            "You won!\n",
            "\n",
            "Choose: 'r' for rock, 'p' for paper, 's' for scissors or 'q' to quit: p\n",
            "Computer chose: r\n",
            "You won!\n",
            "\n",
            "Choose: 'r' for rock, 'p' for paper, 's' for scissors or 'q' to quit: r\n",
            "Computer chose: r\n",
            "It's a tie!\n",
            "\n",
            "Choose: 'r' for rock, 'p' for paper, 's' for scissors or 'q' to quit: r\n",
            "Computer chose: s\n",
            "You won!\n",
            "\n",
            "Choose: 'r' for rock, 'p' for paper, 's' for scissors or 'q' to quit: r\n",
            "Computer chose: r\n",
            "It's a tie!\n",
            "\n",
            "Choose: 'r' for rock, 'p' for paper, 's' for scissors or 'q' to quit: r\n",
            "Computer chose: r\n",
            "It's a tie!\n",
            "\n",
            "Choose: 'r' for rock, 'p' for paper, 's' for scissors or 'q' to quit: \n",
            "Invalid input! Please choose 'r', 'p', or 's'.\n",
            "\n",
            "Choose: 'r' for rock, 'p' for paper, 's' for scissors or 'q' to quit: p\n",
            "Computer chose: p\n",
            "It's a tie!\n",
            "\n",
            "Choose: 'r' for rock, 'p' for paper, 's' for scissors or 'q' to quit: s\n",
            "Computer chose: s\n",
            "It's a tie!\n",
            "\n",
            "Choose: 'r' for rock, 'p' for paper, 's' for scissors or 'q' to quit: q\n",
            "\n",
            "Final Score:\n",
            "You: 3 | Computer: 0\n",
            "Thanks for playing!\n"
          ]
        }
      ],
      "source": [
        "import random\n",
        "\n",
        "def play():\n",
        "    user_score = 0\n",
        "    computer_score = 0\n",
        "\n",
        "    while True:\n",
        "        user = input(\"\\nChoose: 'r' for rock, 'p' for paper, 's' for scissors or 'q' to quit: \").lower()\n",
        "\n",
        "        if user == 'q':\n",
        "            print(\"\\nFinal Score:\")\n",
        "            print(f\"You: {user_score} | Computer: {computer_score}\")\n",
        "            print(\"Thanks for playing!\")\n",
        "            break\n",
        "\n",
        "        if user not in ['r', 'p', 's']:\n",
        "            print(\"Invalid input! Please choose 'r', 'p', or 's'.\")\n",
        "            continue\n",
        "\n",
        "        computer = random.choice(['r', 'p', 's'])\n",
        "        print(f\"Computer chose: {computer}\")\n",
        "\n",
        "        if user == computer:\n",
        "            print(\"It's a tie!\")\n",
        "        elif is_win(user, computer):\n",
        "            print(\"You won!\")\n",
        "            user_score += 1\n",
        "        else:\n",
        "            print(\"You lost!\")\n",
        "            computer_score += 1\n",
        "\n",
        "def is_win(player, opponent):\n",
        "    # Return True if player wins\n",
        "    # Rock beats Scissors, Scissors beats Paper, Paper beats Rock\n",
        "    return (player == 'r' and opponent == 's') or \\\n",
        "           (player == 's' and opponent == 'p') or \\\n",
        "           (player == 'p' and opponent == 'r')\n",
        "\n",
        "play()"
      ]
    }
  ]
}