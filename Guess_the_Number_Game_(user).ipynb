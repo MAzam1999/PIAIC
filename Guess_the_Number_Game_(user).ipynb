{
  "nbformat": 4,
  "nbformat_minor": 0,
  "metadata": {
    "colab": {
      "provenance": [],
      "authorship_tag": "ABX9TyOb76a39M+XSpsgfbxc1VUE",
      "include_colab_link": true
    },
    "kernelspec": {
      "name": "python3",
      "display_name": "Python 3"
    },
    "language_info": {
      "name": "python"
    }
  },
  "cells": [
    {
      "cell_type": "markdown",
      "metadata": {
        "id": "view-in-github",
        "colab_type": "text"
      },
      "source": [
        "<a href=\"https://colab.research.google.com/github/MAzam1999/PIAIC/blob/main/Guess_the_Number_Game_(user).ipynb\" target=\"_parent\"><img src=\"https://colab.research.google.com/assets/colab-badge.svg\" alt=\"Open In Colab\"/></a>"
      ]
    },
    {
      "cell_type": "code",
      "execution_count": null,
      "metadata": {
        "colab": {
          "base_uri": "https://localhost:8080/"
        },
        "id": "4ogfLHs4rm82",
        "outputId": "00f16c91-be5e-497a-f08b-11f2b6f1f5f2"
      },
      "outputs": [
        {
          "output_type": "stream",
          "name": "stdout",
          "text": [
            "Guess a number between 1 and 10: 7\n",
            "Too high! Try again.\n",
            "Guess a number between 1 and 10: 4\n",
            "Too low! Try again.\n",
            "Guess a number between 1 and 10: 6\n",
            "Too high! Try again.\n",
            "Guess a number between 1 and 10: 5\n",
            "🎉 Yay, congrats! You guessed the number 5 correctly in 4 attempts!\n"
          ]
        }
      ],
      "source": [
        "import random\n",
        "\n",
        "def guess(x):\n",
        "    random_number = random.randint(1, x)\n",
        "    guess = 0\n",
        "    attempts = 0  # Track the number of attempts\n",
        "\n",
        "    while guess != random_number:\n",
        "        try:\n",
        "            guess = int(input(f'Guess a number between 1 and {x}: '))\n",
        "            attempts += 1\n",
        "\n",
        "            if guess < random_number:\n",
        "                print('Too low! Try again.')\n",
        "            elif guess > random_number:\n",
        "                print('Too high! Try again.')\n",
        "        except ValueError:\n",
        "            print(\"Invalid input! Please enter a number.\")\n",
        "\n",
        "    print(f'🎉 Yay, congrats! You guessed the number {random_number} correctly in {attempts} attempts!')\n",
        "\n",
        "# Example: Play with numbers between 1 and 10\n",
        "guess(10)"
      ]
    }
  ]
}